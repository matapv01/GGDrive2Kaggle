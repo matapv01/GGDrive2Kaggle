{
  "nbformat": 4,
  "nbformat_minor": 0,
  "metadata": {
    "colab": {
      "provenance": []
    },
    "kernelspec": {
      "name": "python3",
      "display_name": "Python 3"
    },
    "language_info": {
      "name": "python"
    }
  },
  "cells": [
    {
      "cell_type": "code",
      "source": [
        "from google.colab import drive\n",
        "drive.mount('/content/drive')\n"
      ],
      "metadata": {
        "colab": {
          "base_uri": "https://localhost:8080/"
        },
        "id": "t40BgKgCz7am",
        "outputId": "bae11d23-6c24-4ecd-9ed9-a027b879907a"
      },
      "execution_count": null,
      "outputs": [
        {
          "output_type": "stream",
          "name": "stdout",
          "text": [
            "Mounted at /content/drive\n"
          ]
        }
      ]
    },
    {
      "cell_type": "code",
      "source": [
        "# prompt: copy /content/drive/MyDrive/Project/Drive2Kaggle/kaggle.json vào thư mục /content/Kaggle\n",
        "\n",
        "import shutil\n",
        "import os\n",
        "\n",
        "# Create the Kaggle directory if it doesn't exist\n",
        "if not os.path.exists('/content/Kaggle'):\n",
        "    os.makedirs('/content/Kaggle')\n",
        "\n",
        "# Copy the kaggle.json file\n",
        "shutil.copy2('/content/drive/MyDrive/Project/Drive2Kaggle/kaggle.json', '/content/Kaggle/kaggle.json')\n"
      ],
      "metadata": {
        "colab": {
          "base_uri": "https://localhost:8080/",
          "height": 36
        },
        "id": "cyIdTL722xhA",
        "outputId": "74144b6c-36e4-42d0-dc77-7ddea09ddaec"
      },
      "execution_count": null,
      "outputs": [
        {
          "output_type": "execute_result",
          "data": {
            "text/plain": [
              "'/content/Kaggle/kaggle.json'"
            ],
            "application/vnd.google.colaboratory.intrinsic+json": {
              "type": "string"
            }
          },
          "metadata": {},
          "execution_count": 7
        }
      ]
    },
    {
      "cell_type": "code",
      "source": [
        "import os\n",
        "os.environ['KAGGLE_CONFIG_DIR'] = \"/content/Kaggle\"\n",
        "# trỏ đến thư mục chứa kaggle.json\n"
      ],
      "metadata": {
        "id": "LR5LHFem0AV6"
      },
      "execution_count": null,
      "outputs": []
    },
    {
      "cell_type": "code",
      "execution_count": null,
      "metadata": {
        "colab": {
          "base_uri": "https://localhost:8080/"
        },
        "id": "L_jQGXIAzz6e",
        "outputId": "6b3adb89-88e9-44b9-8f6c-ed8e2374d31b"
      },
      "outputs": [
        {
          "output_type": "stream",
          "name": "stdout",
          "text": [
            "Requirement already satisfied: kaggle in /usr/local/lib/python3.11/dist-packages (1.6.17)\n",
            "Requirement already satisfied: six>=1.10 in /usr/local/lib/python3.11/dist-packages (from kaggle) (1.17.0)\n",
            "Requirement already satisfied: certifi>=2023.7.22 in /usr/local/lib/python3.11/dist-packages (from kaggle) (2025.1.31)\n",
            "Requirement already satisfied: python-dateutil in /usr/local/lib/python3.11/dist-packages (from kaggle) (2.8.2)\n",
            "Requirement already satisfied: requests in /usr/local/lib/python3.11/dist-packages (from kaggle) (2.32.3)\n",
            "Requirement already satisfied: tqdm in /usr/local/lib/python3.11/dist-packages (from kaggle) (4.67.1)\n",
            "Requirement already satisfied: python-slugify in /usr/local/lib/python3.11/dist-packages (from kaggle) (8.0.4)\n",
            "Requirement already satisfied: urllib3 in /usr/local/lib/python3.11/dist-packages (from kaggle) (2.3.0)\n",
            "Requirement already satisfied: bleach in /usr/local/lib/python3.11/dist-packages (from kaggle) (6.2.0)\n",
            "Requirement already satisfied: webencodings in /usr/local/lib/python3.11/dist-packages (from bleach->kaggle) (0.5.1)\n",
            "Requirement already satisfied: text-unidecode>=1.3 in /usr/local/lib/python3.11/dist-packages (from python-slugify->kaggle) (1.3)\n",
            "Requirement already satisfied: charset-normalizer<4,>=2 in /usr/local/lib/python3.11/dist-packages (from requests->kaggle) (3.4.1)\n",
            "Requirement already satisfied: idna<4,>=2.5 in /usr/local/lib/python3.11/dist-packages (from requests->kaggle) (3.10)\n"
          ]
        }
      ],
      "source": [
        "!pip install kaggle\n"
      ]
    },
    {
      "cell_type": "code",
      "source": [
        "# prompt: di chuyển dataset và thư mục Kaggle\n",
        "\n",
        "# Move the downloaded dataset to your desired location on Google Drive\n",
        "!mkdir -p /content/drive/MyDrive/Datasets/Simpsons\n",
        "!mv /content/*.zip /content/drive/MyDrive/Datasets/Simpsons\n"
      ],
      "metadata": {
        "id": "DRFTTKIN3jxS"
      },
      "execution_count": null,
      "outputs": []
    },
    {
      "cell_type": "code",
      "source": [
        "# di chuyển dataset và thư mục Kaggle\n"
      ],
      "metadata": {
        "id": "P2MgNYGO3HCJ"
      },
      "execution_count": null,
      "outputs": []
    },
    {
      "cell_type": "code",
      "source": [
        "!kaggle datasets init -p /content/Kaggle/\n",
        "# thay thế link bằng link folder chứa dataset\n"
      ],
      "metadata": {
        "colab": {
          "base_uri": "https://localhost:8080/"
        },
        "id": "WcdwF2qV0EYa",
        "outputId": "7d40cf9f-745c-4638-e441-d4b02cd74701"
      },
      "execution_count": null,
      "outputs": [
        {
          "output_type": "stream",
          "name": "stdout",
          "text": [
            "Data package template written to: /content/Kaggle/dataset-metadata.json\n"
          ]
        }
      ]
    },
    {
      "cell_type": "code",
      "source": [
        "'''{\n",
        "  \"title\": \"EA-RGCN_Vulnerable\", # Tên tập dữ liệu của bạn\n",
        "  \"id\": \"mata3111v/ea-rgcn-vulnerable\", #tên_người_dùng/tên_tập_dữ_liệu(chỉ chứa chữ cái thường, số hoặc dấu -)\n",
        "  \"licenses\": [\n",
        "    {\n",
        "      \"name\": \"CC0-1.0\"\n",
        "    }\n",
        "  ]\n",
        "}'''\n"
      ],
      "metadata": {
        "id": "2K1T0ytG0F1V",
        "colab": {
          "base_uri": "https://localhost:8080/",
          "height": 54
        },
        "outputId": "f94b35c1-c37d-424a-f583-630756a07c25"
      },
      "execution_count": null,
      "outputs": [
        {
          "output_type": "execute_result",
          "data": {
            "text/plain": [
              "'{\\n  \"title\": \"EA-RGCN_Vulnerable\", # Tên tập dữ liệu của bạn\\n  \"id\": \"mata3111v/ea-rgcn-vulnerable\", #tên_người_dùng/tên_tập_dữ_liệu(chỉ chứa chữ cái thường, số hoặc dấu -)\\n  \"licenses\": [\\n    {\\n      \"name\": \"CC0-1.0\"\\n    }\\n  ]\\n}'"
            ],
            "application/vnd.google.colaboratory.intrinsic+json": {
              "type": "string"
            }
          },
          "metadata": {},
          "execution_count": 30
        }
      ]
    },
    {
      "cell_type": "code",
      "source": [
        "# thay bằng link metadata\n",
        "%%writefile /content/Kaggle/dataset-metadata.json\n",
        "{\n",
        "  \"title\": \"EA-RGCN_Vulnerable\",\n",
        "  \"id\": \"mata3111v/ea-rgcn-vulnerable\",\n",
        "  \"licenses\": [\n",
        "    {\n",
        "      \"name\": \"CC0-1.0\"\n",
        "    }\n",
        "  ]\n",
        "}\n"
      ],
      "metadata": {
        "colab": {
          "base_uri": "https://localhost:8080/"
        },
        "id": "iUIzrSzS4fyG",
        "outputId": "90048cde-834b-4292-d69d-85aeab8df460"
      },
      "execution_count": null,
      "outputs": [
        {
          "output_type": "stream",
          "name": "stdout",
          "text": [
            "Overwriting /content/Kaggle/dataset-metadata.json\n"
          ]
        }
      ]
    },
    {
      "cell_type": "code",
      "source": [
        "!kaggle datasets create -p /content/Kaggle/ --dir-mode zip\n",
        "# thay bằng link folder chứa dataset"
      ],
      "metadata": {
        "colab": {
          "base_uri": "https://localhost:8080/"
        },
        "id": "IfO6RyI54A5U",
        "outputId": "7c5235a0-f842-4de2-b7d8-caf115bca08e"
      },
      "execution_count": null,
      "outputs": [
        {
          "output_type": "stream",
          "name": "stdout",
          "text": [
            "Starting upload for file Vulnerable.zip\n",
            "100% 3.46G/3.46G [00:38<00:00, 97.5MB/s]\n",
            "Upload successful: Vulnerable.zip (3GB)\n",
            "Starting upload for file kaggle.json\n",
            "100% 65.0/65.0 [00:00<00:00, 100B/s]\n",
            "Upload successful: kaggle.json (65B)\n",
            "Your private Dataset is being created. Please check progress at https://www.kaggle.com/datasets/mata3111v/ea-rgcn-vulnerable\n"
          ]
        }
      ]
    }
  ]
}